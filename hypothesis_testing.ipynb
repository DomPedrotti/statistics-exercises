{
 "cells": [
  {
   "cell_type": "code",
   "execution_count": 13,
   "metadata": {},
   "outputs": [],
   "source": [
    "import numpy as np\n",
    "from scipy import stats\n",
    "import math"
   ]
  },
  {
   "cell_type": "markdown",
   "metadata": {},
   "source": [
    "### For each of the following questions, formulate a null and alternative hypothesis (be as specific as you can be), then give an example of what a true positive, true negative, type I and type II errors would look like.\n",
    "\n"
   ]
  },
  {
   "cell_type": "markdown",
   "metadata": {},
   "source": [
    "- **Is the website redesign any good?**"
   ]
  },
  {
   "cell_type": "markdown",
   "metadata": {},
   "source": [
    ">**H<sub>o</sub>:** website redesign is not good, click rate has no significant change\n",
    ">\n",
    ">>False Negative **(type II error)** Click rate has not changed, but another metric has improved that we're not tracking\n",
    ">\n",
    ">**H<sub>a</sub>:** website redesign is good, click rate has significantly improved\n",
    ">\n",
    ">>False Positive **(type I error)** Click rate has signifaicantly improved but not due to website redesign\n"
   ]
  },
  {
   "cell_type": "markdown",
   "metadata": {},
   "source": [
    "- **Is our television ad driving more sales?**"
   ]
  },
  {
   "cell_type": "markdown",
   "metadata": {},
   "source": [
    ">**H<sub>o</sub>:** Ad has no effect on sales, no significant increase\n",
    ">\n",
    ">>False Negative **(type II error)** sales have not risen, but due to other causes\n",
    ">\n",
    ">**H<sub>a</sub>:** Ad has boosted sales\n",
    ">\n",
    ">>False Positive **(type I error)** Sales have risen, but due to other causes"
   ]
  },
  {
   "cell_type": "markdown",
   "metadata": {},
   "source": [
    "- **Has the network latency gone up since we switched internet service providers?**"
   ]
  },
  {
   "cell_type": "markdown",
   "metadata": {},
   "source": [
    ">**H<sub>o</sub>:** Network latency has not been affected by new internet provider\n",
    ">\n",
    ">>False Negative **(type II error)** latency has risen but measurment device is not working\n",
    ">\n",
    ">**H<sub>a</sub>:** Network latency has risen significantly\n",
    ">\n",
    ">>False Positive **(type I error)** latency has not risen but measurment device is not working"
   ]
  },
  {
   "cell_type": "markdown",
   "metadata": {},
   "source": [
    "# T-tests"
   ]
  },
  {
   "cell_type": "markdown",
   "metadata": {},
   "source": [
    "- Ace Realty wants to determine whether the average time it takes to sell homes is different for its two offices. A sample of 40 sales from office #1 revealed a mean of 90 days and a standard deviation of 15 days. A sample of 50 sales from office #2 revealed a mean of 100 days and a standard deviation of 20 days. Use a .05 level of significance."
   ]
  },
  {
   "cell_type": "code",
   "execution_count": 24,
   "metadata": {},
   "outputs": [],
   "source": [
    "#metrics\n",
    "dist_1 = stats.norm(90, 15).rvs(40)\n",
    "dist_2 = stats.norm(100,20).rvs(50)\n",
    "\n",
    "n1 = 40\n",
    "n2 = 50\n",
    "\n",
    "μ1 = 90\n",
    "μ2 = 100\n",
    "\n",
    "σ1 = 15\n",
    "σ2 = 20\n",
    "\n",
    "alpha = .05"
   ]
  },
  {
   "cell_type": "code",
   "execution_count": 11,
   "metadata": {},
   "outputs": [
    {
     "data": {
      "text/plain": [
       "-2.6252287036468456"
      ]
     },
     "execution_count": 11,
     "metadata": {},
     "output_type": "execute_result"
    }
   ],
   "source": [
    "#two sample t-test\n",
    "#h0: time1 = time2\n",
    "#ha: time1 ≠ time2\n",
    "deg_f = n1 + n2 - 2\n",
    "σ_pool = math.sqrt(((n1 - 1)*(σ1 ** 2) + (n2 - 1)*(σ2 ** 2)) / (deg_f))\n",
    "\n",
    "t = (μ1 - μ2) / (σ_pool * math.sqrt(1/n1 + 1/n2))\n",
    "t"
   ]
  },
  {
   "cell_type": "code",
   "execution_count": 17,
   "metadata": {},
   "outputs": [
    {
     "data": {
      "text/plain": [
       "0.005104926224619695"
      ]
     },
     "execution_count": 17,
     "metadata": {},
     "output_type": "execute_result"
    }
   ],
   "source": [
    "p = stats.t(deg_f).cdf(t)\n",
    "p"
   ]
  },
  {
   "cell_type": "code",
   "execution_count": 25,
   "metadata": {},
   "outputs": [
    {
     "data": {
      "text/plain": [
       "Ttest_indResult(statistic=-1.3656244902171626, pvalue=0.1755373202718037)"
      ]
     },
     "execution_count": 25,
     "metadata": {},
     "output_type": "execute_result"
    }
   ],
   "source": [
    "stats.ttest_ind(dist_1, dist_2)"
   ]
  },
  {
   "cell_type": "code",
   "execution_count": null,
   "metadata": {},
   "outputs": [],
   "source": []
  }
 ],
 "metadata": {
  "kernelspec": {
   "display_name": "Python 3",
   "language": "python",
   "name": "python3"
  },
  "language_info": {
   "codemirror_mode": {
    "name": "ipython",
    "version": 3
   },
   "file_extension": ".py",
   "mimetype": "text/x-python",
   "name": "python",
   "nbconvert_exporter": "python",
   "pygments_lexer": "ipython3",
   "version": "3.7.3"
  }
 },
 "nbformat": 4,
 "nbformat_minor": 2
}
