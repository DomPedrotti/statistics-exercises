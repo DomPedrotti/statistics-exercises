{
 "cells": [
  {
   "cell_type": "markdown",
   "metadata": {},
   "source": [
    "### For each of the following questions, formulate a null and alternative hypothesis (be as specific as you can be), then give an example of what a true positive, true negative, type I and type II errors would look like.\n",
    "\n"
   ]
  },
  {
   "cell_type": "markdown",
   "metadata": {},
   "source": [
    "- **Is the website redesign any good?**"
   ]
  },
  {
   "cell_type": "markdown",
   "metadata": {},
   "source": [
    ">**H<sub>o</sub>:** website redesign is not good, click rate has no significant change\n",
    ">\n",
    ">>False Negative **(type II error)** Click rate has not changed, but another metric has improved that we're not tracking\n",
    ">\n",
    ">**H<sub>a</sub>:** website redesign is good, click rate has significantly improved\n",
    ">\n",
    ">>False Positive **(type I error)** Click rate has signifaicantly improved but not due to website redesign\n"
   ]
  },
  {
   "cell_type": "markdown",
   "metadata": {},
   "source": [
    "- **Is our television ad driving more sales?**"
   ]
  },
  {
   "cell_type": "markdown",
   "metadata": {},
   "source": [
    ">**H<sub>o</sub>:** Ad has no effect on sales, no significant increase\n",
    ">\n",
    ">>False Negative **(type II error)** sales have not risen, but due to other causes\n",
    ">\n",
    ">**H<sub>a</sub>:** Ad has boosted sales\n",
    ">\n",
    ">>False Positive **(type I error)** Sales have risen, but due to other causes"
   ]
  },
  {
   "cell_type": "markdown",
   "metadata": {},
   "source": [
    "- **Has the network latency gone up since we switched internet service providers?**"
   ]
  },
  {
   "cell_type": "markdown",
   "metadata": {},
   "source": [
    ">**H<sub>o</sub>:** Network latency has not been affected by new internet provider\n",
    ">\n",
    ">>False Negative **(type II error)** latency has risen but measurment device is not working\n",
    ">\n",
    ">**H<sub>a</sub>:** Network latency has risen significantly\n",
    ">\n",
    ">>False Positive **(type I error)** latency has not risen but measurment device is not working"
   ]
  },
  {
   "cell_type": "code",
   "execution_count": null,
   "metadata": {},
   "outputs": [],
   "source": []
  },
  {
   "cell_type": "code",
   "execution_count": null,
   "metadata": {},
   "outputs": [],
   "source": []
  }
 ],
 "metadata": {
  "kernelspec": {
   "display_name": "Python 3",
   "language": "python",
   "name": "python3"
  },
  "language_info": {
   "codemirror_mode": {
    "name": "ipython",
    "version": 3
   },
   "file_extension": ".py",
   "mimetype": "text/x-python",
   "name": "python",
   "nbconvert_exporter": "python",
   "pygments_lexer": "ipython3",
   "version": "3.7.3"
  }
 },
 "nbformat": 4,
 "nbformat_minor": 2
}
