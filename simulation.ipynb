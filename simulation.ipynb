{
 "cells": [
  {
   "cell_type": "code",
   "execution_count": 161,
   "metadata": {},
   "outputs": [],
   "source": [
    "import numpy as np\n",
    "import pandas as pd\n",
    "\n",
    "\n",
    "np.random.seed(3)"
   ]
  },
  {
   "cell_type": "code",
   "execution_count": 116,
   "metadata": {},
   "outputs": [],
   "source": [
    "#1.How likely is it that you roll doubles when rolling two dice?\n",
    "\n",
    "n_rows = 10_000\n",
    "n_cols = 2\n",
    "\n",
    "rolls = np.random.choice(range(1,7), n_rows * n_cols).reshape(n_rows, n_cols)\n",
    "df_rolls = pd.DataFrame(rolls)"
   ]
  },
  {
   "cell_type": "code",
   "execution_count": 117,
   "metadata": {},
   "outputs": [],
   "source": [
    "df_rolls['success_fail'] = df_rolls[0] == df_rolls[1]"
   ]
  },
  {
   "cell_type": "code",
   "execution_count": 118,
   "metadata": {},
   "outputs": [
    {
     "data": {
      "text/plain": [
       "0.1711"
      ]
     },
     "execution_count": 118,
     "metadata": {},
     "output_type": "execute_result"
    }
   ],
   "source": [
    "p_success = df_rolls.success_fail.mean()\n",
    "p_success"
   ]
  },
  {
   "cell_type": "code",
   "execution_count": 119,
   "metadata": {},
   "outputs": [
    {
     "data": {
      "text/plain": [
       "array([[ True, False, False, ..., False,  True, False],\n",
       "       [ True, False,  True, ..., False, False, False],\n",
       "       [ True, False, False, ..., False,  True,  True],\n",
       "       ...,\n",
       "       [ True,  True, False, ...,  True,  True,  True],\n",
       "       [ True, False,  True, ..., False,  True,  True],\n",
       "       [ True, False,  True, ..., False,  True,  True]])"
      ]
     },
     "execution_count": 119,
     "metadata": {},
     "output_type": "execute_result"
    }
   ],
   "source": [
    "#2. If you flip 8 coins, \n",
    "n_rows = 10_000\n",
    "n_cols = 8\n",
    "\n",
    "#true for heads\n",
    "flips = np.random.choice([True, False], n_rows * n_cols).reshape(n_rows, n_cols)\n",
    "flips"
   ]
  },
  {
   "cell_type": "code",
   "execution_count": 120,
   "metadata": {},
   "outputs": [
    {
     "data": {
      "text/plain": [
       "0.214"
      ]
     },
     "execution_count": 120,
     "metadata": {},
     "output_type": "execute_result"
    }
   ],
   "source": [
    "#2.a. what is the probability of getting exactly 3 heads?\n",
    "p_3 = ((flips\n",
    "           .sum(axis = 1) == 3)\n",
    "           .mean())\n",
    "p_3"
   ]
  },
  {
   "cell_type": "code",
   "execution_count": 121,
   "metadata": {},
   "outputs": [
    {
     "data": {
      "text/plain": [
       "0.6384"
      ]
     },
     "execution_count": 121,
     "metadata": {},
     "output_type": "execute_result"
    }
   ],
   "source": [
    "#2.b. What is the probability of getting more than 3 heads?\n",
    "p_3_or_more = ((flips\n",
    "           .sum(axis = 1) > 3)\n",
    "           .mean())\n",
    "p_3_or_more"
   ]
  },
  {
   "cell_type": "code",
   "execution_count": 122,
   "metadata": {},
   "outputs": [
    {
     "data": {
      "text/plain": [
       "array([[ True, False],\n",
       "       [False, False],\n",
       "       [False, False],\n",
       "       ...,\n",
       "       [ True, False],\n",
       "       [False, False],\n",
       "       [False,  True]])"
      ]
     },
     "execution_count": 122,
     "metadata": {},
     "output_type": "execute_result"
    }
   ],
   "source": [
    "#3. There are approximitely 3 web development cohorts for every 1 \n",
    "#data science cohort at Codeup. Assuming that Codeup randomly selects\n",
    "#an alumni to put on a billboard, what are the odds that the two \n",
    "#billboards I drive past both have data science students on them?\n",
    "n_rows = 10_000\n",
    "n_cols = 2\n",
    "\n",
    "#true for student being in data science\n",
    "board_has_ds = np.random.choice([True, False,False,False], n_rows * n_cols).reshape(n_rows, n_cols)\n",
    "board_has_ds"
   ]
  },
  {
   "cell_type": "code",
   "execution_count": 123,
   "metadata": {},
   "outputs": [
    {
     "data": {
      "text/plain": [
       "0.0662"
      ]
     },
     "execution_count": 123,
     "metadata": {},
     "output_type": "execute_result"
    }
   ],
   "source": [
    "p_2_ds = ((board_has_ds\n",
    "           .sum(axis = 1) == 2)\n",
    "           .mean())\n",
    "p_2_ds"
   ]
  },
  {
   "cell_type": "code",
   "execution_count": 136,
   "metadata": {},
   "outputs": [
    {
     "data": {
      "text/plain": [
       "array([[ 0.,  2.,  5.,  3.,  4.],\n",
       "       [ 2.,  3.,  1.,  4.,  3.],\n",
       "       [ 2.,  4.,  3.,  3., -1.],\n",
       "       ...,\n",
       "       [ 0.,  3.,  2.,  4.,  4.],\n",
       "       [ 4.,  1.,  0.,  3.,  4.],\n",
       "       [ 2.,  5.,  2.,  1., -0.]])"
      ]
     },
     "execution_count": 136,
     "metadata": {},
     "output_type": "execute_result"
    }
   ],
   "source": [
    "#4. Codeup students buy, on average, 3 poptart packages (+- 1.5) a \n",
    "#day from the snack vending machine. If on monday the machine is \n",
    "#restocked with 17 poptart packages, how likely is it that I will be \n",
    "#able to buy some poptarts on Friday afternoon?\n",
    "n_rows = 10_000\n",
    "n_cols = 5\n",
    "\n",
    "#generates random number of normal distribution with mu==3 and sigma==1.5\n",
    "pops_bought = np.random.normal(3, 1.5, (n_rows, n_cols))\n",
    "pops_bought = pops_bought.round(0)\n",
    "pops_bought"
   ]
  },
  {
   "cell_type": "code",
   "execution_count": 138,
   "metadata": {},
   "outputs": [
    {
     "data": {
      "text/plain": [
       "0.6735"
      ]
     },
     "execution_count": 138,
     "metadata": {},
     "output_type": "execute_result"
    }
   ],
   "source": [
    "p_pops_left = ((pops_bought\n",
    "           .sum(axis = 1) <= 16)\n",
    "           .mean())\n",
    "p_pops_left"
   ]
  },
  {
   "cell_type": "code",
   "execution_count": 137,
   "metadata": {},
   "outputs": [
    {
     "data": {
      "text/plain": [
       "array([[ 0.,  2.,  5.,  3.,  4.],\n",
       "       [ 2.,  3.,  1.,  4.,  3.],\n",
       "       [ 2.,  4.,  3.,  3.,  0.],\n",
       "       ...,\n",
       "       [ 0.,  3.,  2.,  4.,  4.],\n",
       "       [ 4.,  1.,  0.,  3.,  4.],\n",
       "       [ 2.,  5.,  2.,  1., -0.]])"
      ]
     },
     "execution_count": 137,
     "metadata": {},
     "output_type": "execute_result"
    }
   ],
   "source": [
    "#zack's way to remove negs\n",
    "pops_bought_no = np.where(pops_bought < 0, 0, pops_bought)\n",
    "pops_bought_no"
   ]
  },
  {
   "cell_type": "code",
   "execution_count": 139,
   "metadata": {},
   "outputs": [
    {
     "data": {
      "text/plain": [
       "0.6715"
      ]
     },
     "execution_count": 139,
     "metadata": {},
     "output_type": "execute_result"
    }
   ],
   "source": [
    "p_pops_left = ((pops_bought_no\n",
    "           .sum(axis = 1) <= 16)\n",
    "           .mean())\n",
    "p_pops_left"
   ]
  },
  {
   "cell_type": "code",
   "execution_count": 140,
   "metadata": {},
   "outputs": [
    {
     "data": {
      "text/html": [
       "<div>\n",
       "<style scoped>\n",
       "    .dataframe tbody tr th:only-of-type {\n",
       "        vertical-align: middle;\n",
       "    }\n",
       "\n",
       "    .dataframe tbody tr th {\n",
       "        vertical-align: top;\n",
       "    }\n",
       "\n",
       "    .dataframe thead th {\n",
       "        text-align: right;\n",
       "    }\n",
       "</style>\n",
       "<table border=\"1\" class=\"dataframe\">\n",
       "  <thead>\n",
       "    <tr style=\"text-align: right;\">\n",
       "      <th></th>\n",
       "      <th>height_m</th>\n",
       "      <th>height_w</th>\n",
       "    </tr>\n",
       "  </thead>\n",
       "  <tbody>\n",
       "    <tr>\n",
       "      <th>0</th>\n",
       "      <td>181.480229</td>\n",
       "      <td>177.756905</td>\n",
       "    </tr>\n",
       "    <tr>\n",
       "      <th>1</th>\n",
       "      <td>175.558624</td>\n",
       "      <td>174.680157</td>\n",
       "    </tr>\n",
       "    <tr>\n",
       "      <th>2</th>\n",
       "      <td>149.907453</td>\n",
       "      <td>159.024738</td>\n",
       "    </tr>\n",
       "    <tr>\n",
       "      <th>3</th>\n",
       "      <td>160.616646</td>\n",
       "      <td>160.595591</td>\n",
       "    </tr>\n",
       "    <tr>\n",
       "      <th>4</th>\n",
       "      <td>176.829214</td>\n",
       "      <td>165.772096</td>\n",
       "    </tr>\n",
       "  </tbody>\n",
       "</table>\n",
       "</div>"
      ],
      "text/plain": [
       "     height_m    height_w\n",
       "0  181.480229  177.756905\n",
       "1  175.558624  174.680157\n",
       "2  149.907453  159.024738\n",
       "3  160.616646  160.595591\n",
       "4  176.829214  165.772096"
      ]
     },
     "execution_count": 140,
     "metadata": {},
     "output_type": "execute_result"
    }
   ],
   "source": [
    "#Compare Heights\n",
    "#Men have an average height of 178 cm and standard deviation of 8cm.\n",
    "#Women have a mean of 170, sd = 6cm.\n",
    "#If a man and woman are chosen at random, P(woman taller than man)?\n",
    "n_rows = 1_000_000\n",
    "avg_m = 178\n",
    "sd_m = 8\n",
    "avg_w = 170\n",
    "sd_w = 6\n",
    "\n",
    "height_m = np.random.normal(avg_m, sd_m, (n_rows, 1))\n",
    "height_w = np.random.normal(avg_w, sd_w, (n_rows, 1))\n",
    "\n",
    "heights = pd.DataFrame(height_m).rename(columns = {0:'height_m'})\n",
    "heights['height_w'] = height_w\n",
    "heights.head(5)"
   ]
  },
  {
   "cell_type": "code",
   "execution_count": 141,
   "metadata": {},
   "outputs": [
    {
     "data": {
      "text/html": [
       "<div>\n",
       "<style scoped>\n",
       "    .dataframe tbody tr th:only-of-type {\n",
       "        vertical-align: middle;\n",
       "    }\n",
       "\n",
       "    .dataframe tbody tr th {\n",
       "        vertical-align: top;\n",
       "    }\n",
       "\n",
       "    .dataframe thead th {\n",
       "        text-align: right;\n",
       "    }\n",
       "</style>\n",
       "<table border=\"1\" class=\"dataframe\">\n",
       "  <thead>\n",
       "    <tr style=\"text-align: right;\">\n",
       "      <th></th>\n",
       "      <th>height_m</th>\n",
       "      <th>height_w</th>\n",
       "      <th>taller_w</th>\n",
       "    </tr>\n",
       "  </thead>\n",
       "  <tbody>\n",
       "    <tr>\n",
       "      <th>0</th>\n",
       "      <td>181.480229</td>\n",
       "      <td>177.756905</td>\n",
       "      <td>False</td>\n",
       "    </tr>\n",
       "    <tr>\n",
       "      <th>1</th>\n",
       "      <td>175.558624</td>\n",
       "      <td>174.680157</td>\n",
       "      <td>False</td>\n",
       "    </tr>\n",
       "    <tr>\n",
       "      <th>2</th>\n",
       "      <td>149.907453</td>\n",
       "      <td>159.024738</td>\n",
       "      <td>True</td>\n",
       "    </tr>\n",
       "    <tr>\n",
       "      <th>3</th>\n",
       "      <td>160.616646</td>\n",
       "      <td>160.595591</td>\n",
       "      <td>False</td>\n",
       "    </tr>\n",
       "    <tr>\n",
       "      <th>4</th>\n",
       "      <td>176.829214</td>\n",
       "      <td>165.772096</td>\n",
       "      <td>False</td>\n",
       "    </tr>\n",
       "  </tbody>\n",
       "</table>\n",
       "</div>"
      ],
      "text/plain": [
       "     height_m    height_w  taller_w\n",
       "0  181.480229  177.756905     False\n",
       "1  175.558624  174.680157     False\n",
       "2  149.907453  159.024738      True\n",
       "3  160.616646  160.595591     False\n",
       "4  176.829214  165.772096     False"
      ]
     },
     "execution_count": 141,
     "metadata": {},
     "output_type": "execute_result"
    }
   ],
   "source": [
    "heights['taller_w'] = heights.height_w > heights.height_m\n",
    "heights.head(5)"
   ]
  },
  {
   "cell_type": "code",
   "execution_count": 142,
   "metadata": {},
   "outputs": [
    {
     "data": {
      "text/plain": [
       "0.210466"
      ]
     },
     "execution_count": 142,
     "metadata": {},
     "output_type": "execute_result"
    }
   ],
   "source": [
    "heights.taller_w.mean()"
   ]
  },
  {
   "cell_type": "code",
   "execution_count": 146,
   "metadata": {},
   "outputs": [
    {
     "data": {
      "text/plain": [
       "0.210466"
      ]
     },
     "execution_count": 146,
     "metadata": {},
     "output_type": "execute_result"
    }
   ],
   "source": [
    "#zack's way with np arrays\n",
    "(height_m < height_w).mean()"
   ]
  },
  {
   "cell_type": "code",
   "execution_count": 157,
   "metadata": {},
   "outputs": [],
   "source": [
    "#When installing anaconda on a student's computer, there's a 1 in 250 \n",
    "#chance that the download is corrupted and the installation fails. \n",
    "#What are the odds that after having 50 students download anaconda, \n",
    "#no one has an installation issue? 100 students?\n",
    "n_rows = 10_000\n",
    "def conda_install_trials(trials):\n",
    "    return np.random.choice(249 * [False]  + [True], (n_rows, trials))\n"
   ]
  },
  {
   "cell_type": "code",
   "execution_count": 156,
   "metadata": {},
   "outputs": [
    {
     "data": {
      "text/plain": [
       "0.8125"
      ]
     },
     "execution_count": 156,
     "metadata": {},
     "output_type": "execute_result"
    }
   ],
   "source": [
    "#odds of no failures in 50 trials p(n == 0)\n",
    "trials_50 = conda_install_trials(50)\n",
    "(trials_50.sum(axis = 1) == 0).mean()"
   ]
  },
  {
   "cell_type": "code",
   "execution_count": 150,
   "metadata": {},
   "outputs": [
    {
     "data": {
      "text/plain": [
       "0.6711"
      ]
     },
     "execution_count": 150,
     "metadata": {},
     "output_type": "execute_result"
    }
   ],
   "source": [
    "#no failure in 100 trials p(n == 0)\n",
    "trials_100 = conda_install_trials(100)\n",
    "(trials_100.sum(axis = 1) == 0).mean()"
   ]
  },
  {
   "cell_type": "code",
   "execution_count": 151,
   "metadata": {},
   "outputs": [
    {
     "data": {
      "text/plain": [
       "0.45109999999999995"
      ]
     },
     "execution_count": 151,
     "metadata": {},
     "output_type": "execute_result"
    }
   ],
   "source": [
    "#1 or more issues in 150 trials p(n >= 1) or (1 - p(n == 0))\n",
    "trials_150 = conda_install_trials(150)\n",
    "1 - ((trials_150.\n",
    "     sum(axis = 1) == 0)\n",
    "     .mean())\n"
   ]
  },
  {
   "cell_type": "code",
   "execution_count": 152,
   "metadata": {},
   "outputs": [
    {
     "data": {
      "text/plain": [
       "0.1689"
      ]
     },
     "execution_count": 152,
     "metadata": {},
     "output_type": "execute_result"
    }
   ],
   "source": [
    "#no failures in 450 trials p(n == 0)\n",
    "trials_450 = conda_install_trials(450)\n",
    "((trials_450\n",
    "    .sum(axis = 1) == 0)\n",
    "    .mean())"
   ]
  },
  {
   "cell_type": "code",
   "execution_count": 162,
   "metadata": {},
   "outputs": [
    {
     "data": {
      "text/plain": [
       "array([[ True,  True, False],\n",
       "       [ True,  True, False],\n",
       "       [False, False,  True],\n",
       "       ...,\n",
       "       [False, False, False],\n",
       "       [False, False, False],\n",
       "       [False, False,  True]])"
      ]
     },
     "execution_count": 162,
     "metadata": {},
     "output_type": "execute_result"
    }
   ],
   "source": [
    "#There's a 70% chance on any given day that there will be at least \n",
    "#onefood truck at Travis Park. However, you haven't seen a food \n",
    "#truck there in 3 days. How unlikely is this? p(n == 3)\n",
    "\n",
    "n_rows = 10_000\n",
    "n_cols = 3\n",
    "\n",
    "days = np.random.choice(7*[False] + 3*[True], (n_rows, n_cols))\n",
    "days"
   ]
  },
  {
   "cell_type": "code",
   "execution_count": 159,
   "metadata": {},
   "outputs": [
    {
     "data": {
      "text/plain": [
       "0.0259"
      ]
     },
     "execution_count": 159,
     "metadata": {},
     "output_type": "execute_result"
    }
   ],
   "source": [
    "(days.sum(axis = 1) == 3).mean()"
   ]
  },
  {
   "cell_type": "code",
   "execution_count": 169,
   "metadata": {},
   "outputs": [
    {
     "data": {
      "text/plain": [
       "array([['food_truck', 'food_truck', 'food_truck'],\n",
       "       ['no_food_truck', 'food_truck', 'food_truck'],\n",
       "       ['food_truck', 'food_truck', 'food_truck'],\n",
       "       ...,\n",
       "       ['no_food_truck', 'food_truck', 'no_food_truck'],\n",
       "       ['food_truck', 'no_food_truck', 'no_food_truck'],\n",
       "       ['food_truck', 'food_truck', 'food_truck']], dtype='<U13')"
      ]
     },
     "execution_count": 169,
     "metadata": {},
     "output_type": "execute_result"
    }
   ],
   "source": [
    "#Jackie's way\n",
    "lunches = np.random.choice(['food_truck','no_food_truck'], (n_rows,n_cols), p=[.7, 1-.7])\n",
    "lunches"
   ]
  },
  {
   "cell_type": "code",
   "execution_count": 171,
   "metadata": {},
   "outputs": [
    {
     "data": {
      "text/plain": [
       "0.0269"
      ]
     },
     "execution_count": 171,
     "metadata": {},
     "output_type": "execute_result"
    }
   ],
   "source": [
    "(lunches == 'no_food_truck').all(axis = 1).mean()"
   ]
  },
  {
   "cell_type": "code",
   "execution_count": 26,
   "metadata": {},
   "outputs": [
    {
     "data": {
      "text/plain": [
       "array([[ True, False,  True, ..., False,  True,  True],\n",
       "       [False,  True,  True, ..., False, False,  True],\n",
       "       [False, False, False, ..., False,  True, False],\n",
       "       ...,\n",
       "       [False,  True, False, ...,  True, False,  True],\n",
       "       [False, False, False, ..., False, False,  True],\n",
       "       [False,  True, False, ..., False,  True, False]])"
      ]
     },
     "execution_count": 26,
     "metadata": {},
     "output_type": "execute_result"
    }
   ],
   "source": [
    "#How likely is it that a food truck will show up sometime this week? \n",
    "#1 - p(n == 7)\n",
    "seven_days =  np.random.choice(7*[False] + 3*[True], (n_rows, 7))\n",
    "seven_days"
   ]
  },
  {
   "cell_type": "code",
   "execution_count": 27,
   "metadata": {},
   "outputs": [
    {
     "data": {
      "text/plain": [
       "0.9996"
      ]
     },
     "execution_count": 27,
     "metadata": {},
     "output_type": "execute_result"
    }
   ],
   "source": [
    "p_seven_days = ((~seven_days).sum(axis = 1) > 0).mean()\n",
    "p_seven_days \n"
   ]
  },
  {
   "cell_type": "code",
   "execution_count": 28,
   "metadata": {},
   "outputs": [],
   "source": [
    "#If 23 people are in the same room, what are the odds that two of \n",
    "#them share a birthday? What if it's 20 people? 40?"
   ]
  },
  {
   "cell_type": "code",
   "execution_count": 176,
   "metadata": {},
   "outputs": [],
   "source": [
    "def rand_birthdays(trials):\n",
    "    return np.random.choice(range(365), (10_000, trials))\n",
    "\n",
    "def percent_success(array):\n",
    "    uniques = lambda x: len(set(x)) != len(x)\n",
    "    success = np.array([uniques(trial) for trial in array]) \n",
    "    return success.mean()"
   ]
  },
  {
   "cell_type": "code",
   "execution_count": 173,
   "metadata": {},
   "outputs": [
    {
     "data": {
      "text/plain": [
       "0.5013"
      ]
     },
     "execution_count": 173,
     "metadata": {},
     "output_type": "execute_result"
    }
   ],
   "source": [
    "people_23 = rand_birthdays(23)\n",
    "percent_success(people_23)"
   ]
  },
  {
   "cell_type": "code",
   "execution_count": 174,
   "metadata": {},
   "outputs": [
    {
     "data": {
      "text/plain": [
       "0.4106"
      ]
     },
     "execution_count": 174,
     "metadata": {},
     "output_type": "execute_result"
    }
   ],
   "source": [
    "people_20 = rand_birthdays(20)\n",
    "percent_success(people_20)"
   ]
  },
  {
   "cell_type": "code",
   "execution_count": 175,
   "metadata": {},
   "outputs": [
    {
     "data": {
      "text/plain": [
       "0.8939"
      ]
     },
     "execution_count": 175,
     "metadata": {},
     "output_type": "execute_result"
    }
   ],
   "source": [
    "people_40 = rand_birthdays(40)\n",
    "percent_success(people_40)"
   ]
  },
  {
   "cell_type": "code",
   "execution_count": null,
   "metadata": {},
   "outputs": [],
   "source": []
  }
 ],
 "metadata": {
  "kernelspec": {
   "display_name": "Python 3",
   "language": "python",
   "name": "python3"
  },
  "language_info": {
   "codemirror_mode": {
    "name": "ipython",
    "version": 3
   },
   "file_extension": ".py",
   "mimetype": "text/x-python",
   "name": "python",
   "nbconvert_exporter": "python",
   "pygments_lexer": "ipython3",
   "version": "3.7.3"
  }
 },
 "nbformat": 4,
 "nbformat_minor": 2
}
