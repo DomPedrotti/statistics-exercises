{
 "cells": [
  {
   "cell_type": "code",
   "execution_count": 3,
   "metadata": {},
   "outputs": [],
   "source": [
    "import numpy as np\n",
    "import pandas as pd\n",
    "np.random.seed(1313)"
   ]
  },
  {
   "cell_type": "code",
   "execution_count": 14,
   "metadata": {},
   "outputs": [],
   "source": [
    "#1.How likely is it that you roll doubles when rolling two dice?\n",
    "\n",
    "n_rows = 10_000\n",
    "n_cols = 2\n",
    "\n",
    "rolls = np.random.choice(range(1,7), n_rows * n_cols).reshape(n_rows, n_cols)\n",
    "rolls = pd.DataFrame(rolls)"
   ]
  },
  {
   "cell_type": "code",
   "execution_count": 16,
   "metadata": {},
   "outputs": [],
   "source": [
    "rolls['success_fail'] = rolls[0] == rolls[1]"
   ]
  },
  {
   "cell_type": "code",
   "execution_count": 61,
   "metadata": {},
   "outputs": [
    {
     "data": {
      "text/plain": [
       "0.17"
      ]
     },
     "execution_count": 61,
     "metadata": {},
     "output_type": "execute_result"
    }
   ],
   "source": [
    "p_success = rolls.success_fail.mean()\n",
    "p_success"
   ]
  },
  {
   "cell_type": "code",
   "execution_count": 37,
   "metadata": {},
   "outputs": [
    {
     "data": {
      "text/plain": [
       "array([[ True, False, False, ..., False, False,  True],\n",
       "       [False, False,  True, ..., False,  True,  True],\n",
       "       [False,  True, False, ..., False,  True, False],\n",
       "       ...,\n",
       "       [ True,  True,  True, ...,  True,  True,  True],\n",
       "       [False,  True, False, ...,  True, False,  True],\n",
       "       [False, False, False, ..., False, False,  True]])"
      ]
     },
     "execution_count": 37,
     "metadata": {},
     "output_type": "execute_result"
    }
   ],
   "source": [
    "#2. If you flip 8 coins, \n",
    "n_rows = 10_000\n",
    "n_cols = 8\n",
    "\n",
    "#true for heads\n",
    "flips = np.random.choice([True, False], n_rows * n_cols).reshape(n_rows, n_cols)\n",
    "flips"
   ]
  },
  {
   "cell_type": "code",
   "execution_count": 38,
   "metadata": {},
   "outputs": [
    {
     "data": {
      "text/plain": [
       "0.2228"
      ]
     },
     "execution_count": 38,
     "metadata": {},
     "output_type": "execute_result"
    }
   ],
   "source": [
    "#2.a. what is the probability of getting exactly 3 heads?\n",
    "p_3 = ((flips\n",
    "           .sum(axis = 1) == 3)\n",
    "           .mean())\n",
    "p_3"
   ]
  },
  {
   "cell_type": "code",
   "execution_count": 39,
   "metadata": {},
   "outputs": [
    {
     "data": {
      "text/plain": [
       "0.6343"
      ]
     },
     "execution_count": 39,
     "metadata": {},
     "output_type": "execute_result"
    }
   ],
   "source": [
    "#2.b. What is the probability of getting more than 3 heads?\n",
    "p_3_or_more = ((flips\n",
    "           .sum(axis = 1) > 3)\n",
    "           .mean())\n",
    "p_3_or_more"
   ]
  },
  {
   "cell_type": "code",
   "execution_count": 44,
   "metadata": {},
   "outputs": [
    {
     "data": {
      "text/plain": [
       "array([[False, False],\n",
       "       [False, False],\n",
       "       [False, False],\n",
       "       ...,\n",
       "       [False,  True],\n",
       "       [False, False],\n",
       "       [False, False]])"
      ]
     },
     "execution_count": 44,
     "metadata": {},
     "output_type": "execute_result"
    }
   ],
   "source": [
    "#3. There are approximitely 3 web development cohorts for every 1 \n",
    "#data science cohort at Codeup. Assuming that Codeup randomly selects\n",
    "#an alumni to put on a billboard, what are the odds that the two \n",
    "#billboards I drive past both have data science students on them?\n",
    "n_rows = 10_000\n",
    "n_cols = 2\n",
    "\n",
    "#true for student being in data science\n",
    "board_has_ds = np.random.choice([True, False,False,False], n_rows * n_cols).reshape(n_rows, n_cols)\n",
    "board_has_ds"
   ]
  },
  {
   "cell_type": "code",
   "execution_count": 45,
   "metadata": {},
   "outputs": [
    {
     "data": {
      "text/plain": [
       "0.0672"
      ]
     },
     "execution_count": 45,
     "metadata": {},
     "output_type": "execute_result"
    }
   ],
   "source": [
    "p_2_ds = ((board_has_ds\n",
    "           .sum(axis = 1) == 2)\n",
    "           .mean())\n",
    "p_2_ds"
   ]
  },
  {
   "cell_type": "code",
   "execution_count": 59,
   "metadata": {},
   "outputs": [
    {
     "data": {
      "text/plain": [
       "array([[ 4.,  3.,  4.,  3.,  0.],\n",
       "       [ 2.,  1.,  5.,  5.,  2.],\n",
       "       [ 1.,  6.,  3.,  5.,  2.],\n",
       "       ...,\n",
       "       [ 4., -0.,  3.,  0.,  4.],\n",
       "       [ 2.,  2.,  3.,  3.,  5.],\n",
       "       [ 2.,  3.,  1.,  2.,  4.]])"
      ]
     },
     "execution_count": 59,
     "metadata": {},
     "output_type": "execute_result"
    }
   ],
   "source": [
    "#4. Codeup students buy, on average, 3 poptart packages (+- 1.5) a \n",
    "#day from the snack vending machine. If on monday the machine is \n",
    "#restocked with 17 poptart packages, how likely is it that I will be \n",
    "#able to buy some poptarts on Friday afternoon?\n",
    "n_rows = 10_000\n",
    "n_cols = 5\n",
    "\n",
    "#generates random number of normal distribution with mu==3 and sigma==1.5\n",
    "pops_bought = np.random.normal(3, 1.5, (n_rows, n_cols))\n",
    "pops_bought.round(0)"
   ]
  },
  {
   "cell_type": "code",
   "execution_count": 60,
   "metadata": {},
   "outputs": [
    {
     "data": {
      "text/plain": [
       "0.6274"
      ]
     },
     "execution_count": 60,
     "metadata": {},
     "output_type": "execute_result"
    }
   ],
   "source": [
    "p_pops_left = ((pops_bought\n",
    "           .sum(axis = 1) <= 16)\n",
    "           .mean())\n",
    "p_pops_left"
   ]
  },
  {
   "cell_type": "code",
   "execution_count": 79,
   "metadata": {},
   "outputs": [
    {
     "data": {
      "text/html": [
       "<div>\n",
       "<style scoped>\n",
       "    .dataframe tbody tr th:only-of-type {\n",
       "        vertical-align: middle;\n",
       "    }\n",
       "\n",
       "    .dataframe tbody tr th {\n",
       "        vertical-align: top;\n",
       "    }\n",
       "\n",
       "    .dataframe thead th {\n",
       "        text-align: right;\n",
       "    }\n",
       "</style>\n",
       "<table border=\"1\" class=\"dataframe\">\n",
       "  <thead>\n",
       "    <tr style=\"text-align: right;\">\n",
       "      <th></th>\n",
       "      <th>height_m</th>\n",
       "      <th>height_w</th>\n",
       "    </tr>\n",
       "  </thead>\n",
       "  <tbody>\n",
       "    <tr>\n",
       "      <th>0</th>\n",
       "      <td>167.793178</td>\n",
       "      <td>166.257740</td>\n",
       "    </tr>\n",
       "    <tr>\n",
       "      <th>1</th>\n",
       "      <td>185.221478</td>\n",
       "      <td>166.178120</td>\n",
       "    </tr>\n",
       "    <tr>\n",
       "      <th>2</th>\n",
       "      <td>187.591490</td>\n",
       "      <td>171.500993</td>\n",
       "    </tr>\n",
       "    <tr>\n",
       "      <th>3</th>\n",
       "      <td>175.598426</td>\n",
       "      <td>178.170466</td>\n",
       "    </tr>\n",
       "    <tr>\n",
       "      <th>4</th>\n",
       "      <td>189.312238</td>\n",
       "      <td>165.543346</td>\n",
       "    </tr>\n",
       "  </tbody>\n",
       "</table>\n",
       "</div>"
      ],
      "text/plain": [
       "     height_m    height_w\n",
       "0  167.793178  166.257740\n",
       "1  185.221478  166.178120\n",
       "2  187.591490  171.500993\n",
       "3  175.598426  178.170466\n",
       "4  189.312238  165.543346"
      ]
     },
     "execution_count": 79,
     "metadata": {},
     "output_type": "execute_result"
    }
   ],
   "source": [
    "#Compare Heights\n",
    "#Men have an average height of 178 cm and standard deviation of 8cm.\n",
    "#Women have a mean of 170, sd = 6cm.\n",
    "#If a man and woman are chosen at random, P(woman taller than man)?\n",
    "n_rows = 10_000\n",
    "avg_m = 178\n",
    "sd_m = 8\n",
    "avg_w = 170\n",
    "sd_w = 6\n",
    "\n",
    "height_m = np.random.normal(avg_m, sd_m, (n_rows, 1))\n",
    "height_w = np.random.normal(avg_w, sd_w, (n_rows, 1))\n",
    "\n",
    "heights = pd.DataFrame(height_m).rename(columns = {0:'height_m'})\n",
    "heights['height_w'] = height_w\n",
    "heights.head(5)"
   ]
  },
  {
   "cell_type": "code",
   "execution_count": 80,
   "metadata": {},
   "outputs": [
    {
     "data": {
      "text/html": [
       "<div>\n",
       "<style scoped>\n",
       "    .dataframe tbody tr th:only-of-type {\n",
       "        vertical-align: middle;\n",
       "    }\n",
       "\n",
       "    .dataframe tbody tr th {\n",
       "        vertical-align: top;\n",
       "    }\n",
       "\n",
       "    .dataframe thead th {\n",
       "        text-align: right;\n",
       "    }\n",
       "</style>\n",
       "<table border=\"1\" class=\"dataframe\">\n",
       "  <thead>\n",
       "    <tr style=\"text-align: right;\">\n",
       "      <th></th>\n",
       "      <th>height_m</th>\n",
       "      <th>height_w</th>\n",
       "      <th>taller_w</th>\n",
       "    </tr>\n",
       "  </thead>\n",
       "  <tbody>\n",
       "    <tr>\n",
       "      <th>0</th>\n",
       "      <td>167.793178</td>\n",
       "      <td>166.257740</td>\n",
       "      <td>False</td>\n",
       "    </tr>\n",
       "    <tr>\n",
       "      <th>1</th>\n",
       "      <td>185.221478</td>\n",
       "      <td>166.178120</td>\n",
       "      <td>False</td>\n",
       "    </tr>\n",
       "    <tr>\n",
       "      <th>2</th>\n",
       "      <td>187.591490</td>\n",
       "      <td>171.500993</td>\n",
       "      <td>False</td>\n",
       "    </tr>\n",
       "    <tr>\n",
       "      <th>3</th>\n",
       "      <td>175.598426</td>\n",
       "      <td>178.170466</td>\n",
       "      <td>True</td>\n",
       "    </tr>\n",
       "    <tr>\n",
       "      <th>4</th>\n",
       "      <td>189.312238</td>\n",
       "      <td>165.543346</td>\n",
       "      <td>False</td>\n",
       "    </tr>\n",
       "  </tbody>\n",
       "</table>\n",
       "</div>"
      ],
      "text/plain": [
       "     height_m    height_w  taller_w\n",
       "0  167.793178  166.257740     False\n",
       "1  185.221478  166.178120     False\n",
       "2  187.591490  171.500993     False\n",
       "3  175.598426  178.170466      True\n",
       "4  189.312238  165.543346     False"
      ]
     },
     "execution_count": 80,
     "metadata": {},
     "output_type": "execute_result"
    }
   ],
   "source": [
    "heights['taller_w'] = heights.height_w > heights.height_m\n",
    "heights.head(5)"
   ]
  },
  {
   "cell_type": "code",
   "execution_count": 81,
   "metadata": {},
   "outputs": [
    {
     "data": {
      "text/plain": [
       "0.2142"
      ]
     },
     "execution_count": 81,
     "metadata": {},
     "output_type": "execute_result"
    }
   ],
   "source": [
    "heights.taller_w.mean()"
   ]
  },
  {
   "cell_type": "code",
   "execution_count": 106,
   "metadata": {},
   "outputs": [],
   "source": [
    "#When installing anaconda on a student's computer, there's a 1 in 250 \n",
    "#chance that the download is corrupted and the installation fails. \n",
    "#What are the odds that after having 50 students download anaconda, \n",
    "#no one has an installation issue? 100 students?\n",
    "n_rows = 10_000\n",
    "def conda_install_trials(trials):\n",
    "    return np.random.choice([False] * 249 + [True], (n_rows, trials))\n"
   ]
  },
  {
   "cell_type": "code",
   "execution_count": 117,
   "metadata": {},
   "outputs": [
    {
     "data": {
      "text/plain": [
       "0.8177"
      ]
     },
     "execution_count": 117,
     "metadata": {},
     "output_type": "execute_result"
    }
   ],
   "source": [
    "#odds of no failures in 50 trials p(n == 0)\n",
    "trials_50 = conda_install_trials(50)\n",
    "(trials_50.sum(axis = 1) == 0).mean()"
   ]
  },
  {
   "cell_type": "code",
   "execution_count": 116,
   "metadata": {},
   "outputs": [
    {
     "data": {
      "text/plain": [
       "0.6731"
      ]
     },
     "execution_count": 116,
     "metadata": {},
     "output_type": "execute_result"
    }
   ],
   "source": [
    "#no failure in 100 trials p(n == 0)\n",
    "trials_100 = conda_install_trials(100)\n",
    "(trials_100.sum(axis = 1) == 0).mean()"
   ]
  },
  {
   "cell_type": "code",
   "execution_count": 125,
   "metadata": {},
   "outputs": [
    {
     "data": {
      "text/plain": [
       "0.4607"
      ]
     },
     "execution_count": 125,
     "metadata": {},
     "output_type": "execute_result"
    }
   ],
   "source": [
    "#1 or more issues in 150 trials p(n >= 1) or (1 - p(n == 0))\n",
    "trials_150 = conda_install_trials(150)\n",
    "1 - ((trials_150.\n",
    "     sum(axis = 1) == 0)\n",
    "     .mean())\n"
   ]
  },
  {
   "cell_type": "code",
   "execution_count": 127,
   "metadata": {},
   "outputs": [
    {
     "data": {
      "text/plain": [
       "0.1602"
      ]
     },
     "execution_count": 127,
     "metadata": {},
     "output_type": "execute_result"
    }
   ],
   "source": [
    "#no failures in 450 trials p(n == 0)\n",
    "trials_450 = conda_install_trials(450)\n",
    "((trials_450\n",
    "    .sum(axis = 1) == 0)\n",
    "    .mean())"
   ]
  },
  {
   "cell_type": "code",
   "execution_count": 133,
   "metadata": {},
   "outputs": [
    {
     "data": {
      "text/plain": [
       "array([[False, False, False],\n",
       "       [False,  True, False],\n",
       "       [False,  True, False],\n",
       "       ...,\n",
       "       [False, False, False],\n",
       "       [False, False, False],\n",
       "       [False, False, False]])"
      ]
     },
     "execution_count": 133,
     "metadata": {},
     "output_type": "execute_result"
    }
   ],
   "source": [
    "#There's a 70% chance on any given day that there will be at least \n",
    "#onefood truck at Travis Park. However, you haven't seen a food \n",
    "#truck there in 3 days. How unlikely is this? p(n == 3)\n",
    "\n",
    "n_rows = 10_000\n",
    "n_cols = 3\n",
    "\n",
    "days = np.random.choice(7*[False] + 3*[True], (n_rows, n_cols))\n",
    "days"
   ]
  },
  {
   "cell_type": "code",
   "execution_count": 134,
   "metadata": {},
   "outputs": [
    {
     "data": {
      "text/plain": [
       "0.0287"
      ]
     },
     "execution_count": 134,
     "metadata": {},
     "output_type": "execute_result"
    }
   ],
   "source": [
    "(days.sum(axis = 1) == 3).mean()"
   ]
  },
  {
   "cell_type": "code",
   "execution_count": 140,
   "metadata": {},
   "outputs": [
    {
     "data": {
      "text/plain": [
       "array([[ True, False, False, ..., False, False, False],\n",
       "       [False, False,  True, ..., False, False,  True],\n",
       "       [ True, False, False, ...,  True, False,  True],\n",
       "       ...,\n",
       "       [False,  True, False, ..., False, False, False],\n",
       "       [ True,  True,  True, ..., False, False, False],\n",
       "       [False,  True, False, ..., False, False,  True]])"
      ]
     },
     "execution_count": 140,
     "metadata": {},
     "output_type": "execute_result"
    }
   ],
   "source": [
    "#How likely is it that a food truck will show up sometime this week? \n",
    "#1 - p(n == 7)\n",
    "seven_days =  np.random.choice(7*[False] + 3*[True], (n_rows, 7))\n",
    "seven_days"
   ]
  },
  {
   "cell_type": "code",
   "execution_count": 165,
   "metadata": {},
   "outputs": [
    {
     "data": {
      "text/plain": [
       "0.9999"
      ]
     },
     "execution_count": 165,
     "metadata": {},
     "output_type": "execute_result"
    }
   ],
   "source": [
    "p_seven_days = ((~seven_days).sum(axis = 1) > 0).mean()\n",
    "p_seven_days \n"
   ]
  },
  {
   "cell_type": "code",
   "execution_count": null,
   "metadata": {},
   "outputs": [],
   "source": [
    "#If 23 people are in the same room, what are the odds that two of \n",
    "#them share a birthday? What if it's 20 people? 40?"
   ]
  },
  {
   "cell_type": "code",
   "execution_count": 197,
   "metadata": {},
   "outputs": [],
   "source": [
    "def rand_birthdays(trials):\n",
    "    return np.random.choice(range(0,365), (1_000_000, trials))\n",
    "\n",
    "def percent_success(array):\n",
    "    successes = 0\n",
    "    num_trials = len(array)\n",
    "    for x in array:\n",
    "        if len(x) != len(set(x)):\n",
    "            successes += 1\n",
    "    return successes/num_trials"
   ]
  },
  {
   "cell_type": "code",
   "execution_count": 198,
   "metadata": {},
   "outputs": [
    {
     "data": {
      "text/plain": [
       "0.507074"
      ]
     },
     "execution_count": 198,
     "metadata": {},
     "output_type": "execute_result"
    }
   ],
   "source": [
    "people_23 = rand_birthdays(23)\n",
    "percent_success(people_23)"
   ]
  },
  {
   "cell_type": "code",
   "execution_count": 199,
   "metadata": {},
   "outputs": [
    {
     "data": {
      "text/plain": [
       "0.411192"
      ]
     },
     "execution_count": 199,
     "metadata": {},
     "output_type": "execute_result"
    }
   ],
   "source": [
    "people_20 = rand_birthdays(20)\n",
    "percent_success(people_20)"
   ]
  },
  {
   "cell_type": "code",
   "execution_count": 200,
   "metadata": {},
   "outputs": [
    {
     "data": {
      "text/plain": [
       "0.891116"
      ]
     },
     "execution_count": 200,
     "metadata": {},
     "output_type": "execute_result"
    }
   ],
   "source": [
    "people_40 = rand_birthdays(40)\n",
    "percent_success(people_40)"
   ]
  },
  {
   "cell_type": "code",
   "execution_count": null,
   "metadata": {},
   "outputs": [],
   "source": []
  }
 ],
 "metadata": {
  "kernelspec": {
   "display_name": "Python 3",
   "language": "python",
   "name": "python3"
  },
  "language_info": {
   "codemirror_mode": {
    "name": "ipython",
    "version": 3
   },
   "file_extension": ".py",
   "mimetype": "text/x-python",
   "name": "python",
   "nbconvert_exporter": "python",
   "pygments_lexer": "ipython3",
   "version": "3.7.3"
  }
 },
 "nbformat": 4,
 "nbformat_minor": 2
}
